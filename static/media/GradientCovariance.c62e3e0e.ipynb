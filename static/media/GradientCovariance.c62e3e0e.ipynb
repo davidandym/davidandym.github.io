{
 "cells": [
  {
   "cell_type": "markdown",
   "metadata": {},
   "source": [
    "# Thinking about gradient covariance\n",
    "\n",
    "\n",
    "Let's start with some formalities:\n",
    "\n",
    "### What _is_ gradient covariance?\n",
    "\n",
    "Gradient covariance is often defined with respect to a particular dataset, $\\mathcal{D}$ and a model $f_\\theta$. Let's \n",
    "say $\\mathcal{D}$ has $N$ examples of the form $(x_i, y_i)$.\n",
    "\n",
    "Because $\\theta$ is often more than 1-dimensional, let's say $\\theta\\in\\mathbb{R}^d$, this random variable yields a covariance matrix:\n",
    "$$\n",
    "   \\Sigma(\\theta) = \\mathbb{E}_{(x,y)\\sim\\mathcal{D}\\big[ \\big]\n",
    "$$\n",
    "\n",
    "Note that gradient covariance is a property not just of the dataset $\\mathcal{D}$, but also of the particular function we are considering, e.g. $f_\\theta$. This gradient covariance is liable to change when we change our parameters $\\theta$, and indeed it does!\n",
    "\n"
   ]
  },
  {
   "cell_type": "code",
   "execution_count": null,
   "metadata": {},
   "outputs": [],
   "source": []
  }
 ],
 "metadata": {
  "kernelspec": {
   "display_name": "Python 3",
   "language": "python",
   "name": "python3"
  },
  "language_info": {
   "codemirror_mode": {
    "name": "ipython",
    "version": 3
   },
   "file_extension": ".py",
   "mimetype": "text/x-python",
   "name": "python",
   "nbconvert_exporter": "python",
   "pygments_lexer": "ipython3",
   "version": "3.7.6"
  }
 },
 "nbformat": 4,
 "nbformat_minor": 4
}
