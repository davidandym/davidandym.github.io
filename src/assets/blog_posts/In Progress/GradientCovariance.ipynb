{
 "cells": [
  {
   "cell_type": "markdown",
   "metadata": {},
   "source": [
    "# Thinking about gradient covariance\n",
    "\n",
    "Recently I've been thinking a lot about the temperature of stochastic gradient descent."
   ]
  },
  {
   "cell_type": "markdown",
   "metadata": {},
   "source": [
    "### What _is_ gradient covariance?\n",
    "\n",
    "Gradient covariance is often defined with respect to a particular dataset, $\\mathcal{D}$, and a model, $f_\\theta$; note that here $\\theta$ is _fixed_ since we are measuring gradient covariance _at $\\theta$_, and we'll additionally assume that $f$ is differentiable everywhere.\n",
    "Let's say $\\mathcal{D}$ has $N$ examples of the form $x_i$, and let's define a loss $\\mathcal{L}(x;\\theta)$ over a given example $x$ and parameter setting $\\theta$.\n",
    "Finally, let's additionally assume that $f_\\theta$ is differentiable everywhere.\n",
    "\n",
    "Let's say for now that $\\theta$ is 1-dimensional, i.e. $\\theta\\in\\mathbb{R}$.\n",
    "\n",
    "We are interested in the _true derivative_ $G(\\theta)$, the derivative averaged over the entire dataset\n",
    "$$\n",
    "    G(\\theta) = \\frac{1}{N}\\sum_{x \\in \\mathcal{D}}\\frac{\\delta}{\\delta\\theta}\\mathcal{L}(x;\\theta)\n",
    "$$\n",
    "\n",
    "$G(\\theta)$ tells us how much the _average loss_ $\\frac{1}{N}\\sum_{x \\in \\mathcal{D}} \\mathcal{L}(x;\\theta)$ will change as we increase $\\theta$, and typically in machine learning we are indeed interested in the _average loss_.\n",
    "\n",
    "$\\frac{\\delta}{\\delta\\theta}\\mathcal{L}(x;\\theta)$.\n",
    "\n",
    "When performing stochastic gradient descent, we treat this derivative as a _discrete random variable_. The randomness comes from our selection of $x\\sim\\mathcal{D}$. We first example an $x\\sim\\mathcal{D}$, and then \n",
    "\n",
    "\n",
    "Now, we have a gradient for every example, which we'll call $\\nabla_\\theta f_\\theta(x)$\n",
    "\n",
    "\n",
    "Let's just pretend for now that $\\theta$ is 1-dimensional, i.e. $\\theta \\in \\mathbb{R}^d$.\n",
    "\n",
    "Because $\\theta$ is often more than 1-dimensional, let's say $\\theta\\in\\mathbb{R}^d$, this random variable yields a covariance matrix:\n",
    "\n",
    "$$\n",
    "\\Sigma(\\theta) = \\mathbb{E}_{(x)}\\sim\\mathcal{D}\\big[ \\big]\n",
    "$$\n",
    "\n",
    "Note that gradient covariance is a property not just of the dataset $\\mathcal{D}$, but also of the particular function we are considering, e.g. $f_\\theta$. This gradient covariance is liable to change when we change our parameters $\\theta$, and indeed it does!"
   ]
  },
  {
   "cell_type": "markdown",
   "metadata": {},
   "source": [
    "### Reducing the covariance matrix to a single value?\n"
   ]
  },
  {
   "cell_type": "markdown",
   "metadata": {},
   "source": [
    "### Relation to the Fisher Information Matrix?\n"
   ]
  },
  {
   "cell_type": "markdown",
   "metadata": {},
   "source": [
    "### Relation to the Hessian?\n"
   ]
  },
  {
   "cell_type": "markdown",
   "metadata": {},
   "source": [
    "### Bye\n"
   ]
  },
  {
   "cell_type": "code",
   "execution_count": null,
   "metadata": {},
   "outputs": [],
   "source": []
  }
 ],
 "metadata": {
  "kernelspec": {
   "display_name": "Python 3 (ipykernel)",
   "language": "python",
   "name": "python3"
  },
  "language_info": {
   "codemirror_mode": {
    "name": "ipython",
    "version": 3
   },
   "file_extension": ".py",
   "mimetype": "text/x-python",
   "name": "python",
   "nbconvert_exporter": "python",
   "pygments_lexer": "ipython3",
   "version": "3.9.7"
  }
 },
 "nbformat": 4,
 "nbformat_minor": 4
}
