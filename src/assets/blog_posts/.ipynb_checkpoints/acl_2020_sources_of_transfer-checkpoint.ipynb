{
 "cells": [
  {
   "cell_type": "markdown",
   "metadata": {},
   "source": [
    "# Sources of Transfer in Multilingual NER\n",
    "\n"
   ]
  },
  {
   "cell_type": "markdown",
   "metadata": {},
   "source": [
    "This post is about my [ACL 2020 paper](https://www.aclweb.org/anthology/2020.acl-main.720/), titled the same as this post. It seems to be a common trend these days to write blog posts about recently published papers - I think this is a good idea. My research paper is pretty formal, by virtue of being a research paper, and I think it's useful to distill the biggest takeaways and ideas in a less formal medium. At least I know my mom (hi, mom) will appreciate it."
   ]
  },
  {
   "cell_type": "markdown",
   "metadata": {},
   "source": [
    "## Multilingual (or polyglot) models\n",
    "\n",
    "The main focus of this paper is on _polyglot_ models: models that are trained jointly on more than one language.\n",
    "The predominant trend so far with polyglot models are that.\n",
    "\n",
    "![](blog_figs/sources_of_transfer/sof_results_table.png)\n",
    "\n",
    "![](blog_figs/sources_of_transfer/sof_langs_table.png)"
   ]
  },
  {
   "cell_type": "code",
   "execution_count": null,
   "metadata": {},
   "outputs": [],
   "source": []
  }
 ],
 "metadata": {
  "kernelspec": {
   "display_name": "Python 3",
   "language": "python",
   "name": "python3"
  },
  "language_info": {
   "codemirror_mode": {
    "name": "ipython",
    "version": 3
   },
   "file_extension": ".py",
   "mimetype": "text/x-python",
   "name": "python",
   "nbconvert_exporter": "python",
   "pygments_lexer": "ipython3",
   "version": "3.7.6"
  }
 },
 "nbformat": 4,
 "nbformat_minor": 4
}
