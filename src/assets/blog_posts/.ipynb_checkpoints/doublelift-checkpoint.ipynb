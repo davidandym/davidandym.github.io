{
 "cells": [
  {
   "cell_type": "markdown",
   "metadata": {},
   "source": [
    "## What Doublelift taught me.\n",
    "\n",
    "\n",
    "I am fully aware of how strange and silly it must seem to be writing about a professional video game player on the homepage of an aspiring  scientist and academic. But, as far as I’m concerned, it’s my blog and I can write about what I want :P\n",
    "\n",
    "Today my favorite League of Legends player, Yiliang \"Doublelift\" Peng, retired. I have been a fan of Doublelift since 2012, when I was a freshman in college. For 8 years, I have rode the highs and lows of watching him win and lose and win and lose. And he has won a lot, and he has lost a lot. But, most importantly, he has grown a lot, and with him I have grown a lot as well. And today, after hearing the news of him stepping down, I think he taught me the last lesson that his career has to give me. And that lesson is this:\n",
    "\n",
    "\n",
    "**Sometimes you just don't accomplish your goals... And, pending some criteria, that's fine.**"
   ]
  },
  {
   "cell_type": "markdown",
   "metadata": {},
   "source": [
    "I have always been afraid of failure. I think, mainly, I'm afraid of what others will think of me when I fail. Unfortunately, due to having low self-esteem for a variety of reasons, I care deeply, way too deeply, about what people think of me. This has shaped my life. I think, in some ways, it has made me more compassionate, because I want people to think that I am compassionate and empathetic."
   ]
  },
  {
   "cell_type": "markdown",
   "metadata": {},
   "source": [
    "_posted 27/11/2020_ | _last edit 27/11/2020_"
   ]
  },
  {
   "cell_type": "code",
   "execution_count": null,
   "metadata": {},
   "outputs": [],
   "source": []
  }
 ],
 "metadata": {
  "kernelspec": {
   "display_name": "Python 3",
   "language": "python",
   "name": "python3"
  },
  "language_info": {
   "codemirror_mode": {
    "name": "ipython",
    "version": 3
   },
   "file_extension": ".py",
   "mimetype": "text/x-python",
   "name": "python",
   "nbconvert_exporter": "python",
   "pygments_lexer": "ipython3",
   "version": "3.6.10"
  }
 },
 "nbformat": 4,
 "nbformat_minor": 4
}
