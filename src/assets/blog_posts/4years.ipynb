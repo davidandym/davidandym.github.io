{
 "cells": [
  {
   "cell_type": "markdown",
   "id": "2dad54ec",
   "metadata": {},
   "source": []
  },
  {
   "cell_type": "markdown",
   "id": "495dbb94",
   "metadata": {},
   "source": []
  },
  {
   "cell_type": "markdown",
   "id": "7913d225",
   "metadata": {},
   "source": []
  },
  {
   "cell_type": "markdown",
   "id": "3ef36dc4",
   "metadata": {},
   "source": []
  },
  {
   "cell_type": "markdown",
   "id": "e3024707",
   "metadata": {},
   "source": []
  },
  {
   "cell_type": "markdown",
   "id": "ddf7602c",
   "metadata": {},
   "source": []
  },
  {
   "cell_type": "markdown",
   "id": "3ffad375",
   "metadata": {},
   "source": []
  },
  {
   "cell_type": "markdown",
   "id": "0e9175cc",
   "metadata": {},
   "source": []
  },
  {
   "cell_type": "markdown",
   "id": "7f0265d5",
   "metadata": {},
   "source": []
  },
  {
   "cell_type": "markdown",
   "id": "bc3e104c",
   "metadata": {},
   "source": []
  },
  {
   "cell_type": "markdown",
   "id": "4786e9ff",
   "metadata": {},
   "source": []
  }
 ],
 "metadata": {
  "kernelspec": {
   "display_name": "Python 3 (ipykernel)",
   "language": "python",
   "name": "python3"
  },
  "language_info": {
   "codemirror_mode": {
    "name": "ipython",
    "version": 3
   },
   "file_extension": ".py",
   "mimetype": "text/x-python",
   "name": "python",
   "nbconvert_exporter": "python",
   "pygments_lexer": "ipython3",
   "version": "3.9.7"
  }
 },
 "nbformat": 4,
 "nbformat_minor": 5
}
