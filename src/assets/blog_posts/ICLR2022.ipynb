{
 "cells": [
  {
   "cell_type": "markdown",
   "metadata": {},
   "source": [
    "# 10 Papers from ICLR 2022\n",
    "\n",
    "Please excuse the title, haha - I hesitate to call these papers my _favorite_ papers from ICLR 2022, although I definitely enjoyed all of them.\n",
    "In reality, the 10 papers that I am highlighting here I picked out because of their relevance to my current interests and the impact that they had on my thinking.\n",
    "Additionally, I try to avoid highlighting papers that are already very well let, e.g. outstanding papers or papers that I have seen with a lot of popularity on Twitter.\n",
    "So I am probably dropping some papers that I really liked but weren't necessarily relevant to stuff I'm working on, and I'm also not listing any of the best papers, etc.\n",
    "With that said, here are 10 of my highlights from ICLR 2022!"
   ]
  },
  {
   "cell_type": "code",
   "execution_count": null,
   "metadata": {},
   "outputs": [],
   "source": []
  }
 ],
 "metadata": {
  "kernelspec": {
   "display_name": "Python 3",
   "language": "python",
   "name": "python3"
  },
  "language_info": {
   "codemirror_mode": {
    "name": "ipython",
    "version": 3
   },
   "file_extension": ".py",
   "mimetype": "text/x-python",
   "name": "python",
   "nbconvert_exporter": "python",
   "pygments_lexer": "ipython3",
   "version": "3.7.6"
  }
 },
 "nbformat": 4,
 "nbformat_minor": 4
}
